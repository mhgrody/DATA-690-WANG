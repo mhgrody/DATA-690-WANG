{
 "cells": [
  {
   "cell_type": "markdown",
   "metadata": {},
   "source": [
    "# 690 Assignment 3"
   ]
  },
  {
   "cell_type": "markdown",
   "metadata": {},
   "source": [
    "## Normal Matrix"
   ]
  },
  {
   "cell_type": "code",
   "execution_count": 1,
   "metadata": {},
   "outputs": [
    {
     "name": "stdout",
     "output_type": "stream",
     "text": [
      "0 0 4 1 1 5 7 8 1 6 \n",
      "6 2 8 8 9 7 2 4 5 0 \n",
      "7 8 0 2 8 7 4 7 0 6 \n",
      "9 8 4 2 0 6 8 9 0 4 \n",
      "0 1 3 1 4 0 2 1 1 7 \n",
      "3 3 0 8 1 8 1 2 8 8 \n",
      "1 1 7 6 5 3 7 7 0 3 \n",
      "0 8 4 0 1 6 3 6 0 1 \n",
      "3 5 9 0 0 3 7 8 5 3 \n",
      "9 3 6 1 9 3 7 6 3 0 \n"
     ]
    }
   ],
   "source": [
    "from random import randint\n",
    "\n",
    "for i in range(10):\n",
    "# generate some integers\n",
    "    for _ in range(10):\n",
    "        value = randint(0, 9)\n",
    "        print(value, end= ' ')\n",
    "    print()"
   ]
  },
  {
   "cell_type": "markdown",
   "metadata": {},
   "source": [
    "## Odd = @ Matrix"
   ]
  },
  {
   "cell_type": "code",
   "execution_count": 2,
   "metadata": {},
   "outputs": [
    {
     "name": "stdout",
     "output_type": "stream",
     "text": [
      "@ @ 8 @ @ 2 @ 4 @ @ \n",
      "6 2 8 0 @ @ 6 2 @ @ \n",
      "@ @ 6 0 @ 4 2 @ @ @ \n",
      "@ @ @ 8 @ @ @ 0 4 0 \n",
      "6 @ @ @ @ 6 @ 0 @ @ \n",
      "@ @ @ @ @ 2 @ @ @ @ \n",
      "@ @ @ 0 @ 2 0 @ 8 @ \n",
      "6 8 @ 4 @ @ 4 @ @ 6 \n",
      "8 @ 0 8 @ @ @ 6 6 @ \n",
      "4 @ 8 @ 0 @ @ @ @ @ \n"
     ]
    }
   ],
   "source": [
    "for i in range(10):\n",
    "# generate some integers\n",
    "    for _ in range(10):\n",
    "        value = randint(0, 9)\n",
    "        if value%2 != 0:\n",
    "            value = '@'\n",
    "        print(value, end= ' ')\n",
    "    print()"
   ]
  },
  {
   "cell_type": "markdown",
   "metadata": {},
   "source": [
    "## Matrix with Row Totals"
   ]
  },
  {
   "cell_type": "code",
   "execution_count": 3,
   "metadata": {},
   "outputs": [
    {
     "name": "stdout",
     "output_type": "stream",
     "text": [
      "7 7 5 9 9 1 4 8 0 3 * 53\n",
      "4 3 7 3 7 9 1 9 5 3 * 51\n",
      "4 6 9 2 9 8 3 9 2 9 * 61\n",
      "5 1 8 7 6 6 5 3 4 5 * 50\n",
      "9 5 9 2 3 6 8 2 4 1 * 49\n",
      "2 2 6 6 3 3 1 1 8 3 * 35\n",
      "1 4 7 5 3 9 3 2 7 6 * 47\n",
      "2 6 5 5 3 2 7 1 2 4 * 37\n",
      "3 1 6 4 9 7 5 5 5 2 * 47\n",
      "1 8 3 8 2 7 1 7 8 9 * 54\n"
     ]
    }
   ],
   "source": [
    "for i in range(10):\n",
    "    #Re-initializes empty list for each iteration\n",
    "    nums = []\n",
    "# generate some integers\n",
    "    for _ in range(10):\n",
    "        value = randint(0, 9)\n",
    "        #add random values to a list to be summed for each row\n",
    "        nums.append(value)\n",
    "        print(value, end= ' ')\n",
    "    print('*', sum(nums))"
   ]
  },
  {
   "cell_type": "markdown",
   "metadata": {},
   "source": [
    "## Optional Challenges"
   ]
  },
  {
   "cell_type": "code",
   "execution_count": 4,
   "metadata": {},
   "outputs": [
    {
     "data": {
      "text/plain": [
       "23"
      ]
     },
     "execution_count": 4,
     "metadata": {},
     "output_type": "execute_result"
    }
   ],
   "source": [
    "string = '***********************'\n",
    "len(string)"
   ]
  },
  {
   "cell_type": "code",
   "execution_count": 5,
   "metadata": {},
   "outputs": [
    {
     "name": "stdout",
     "output_type": "stream",
     "text": [
      "***********************\n",
      "* 9 2 4 6 1 6 2 1 4 2 *\n",
      "* 6 1 8 1 3 9 8 2 9 3 *\n",
      "* 9 4 5 2 9 9 4 7 3 9 *\n",
      "* 3 2 4 2 2 4 8 0 4 9 *\n",
      "* 1 8 5 3 1 4 1 8 6 3 *\n",
      "* 1 4 2 1 6 8 7 3 5 4 *\n",
      "* 8 3 6 0 8 9 1 3 5 2 *\n",
      "* 2 2 4 9 7 6 0 9 8 7 *\n",
      "* 9 2 7 3 4 3 6 0 9 9 *\n",
      "* 9 2 9 3 2 4 8 4 1 2 *\n",
      "***********************"
     ]
    }
   ],
   "source": [
    "for j in range(0,23):\n",
    "    print('*', end='')\n",
    "print()\n",
    "\n",
    "for i in range(0, 10):\n",
    "    # generate some integers\n",
    "    print('*', end=' ')\n",
    "    for _ in range(0, 10):\n",
    "        value = randint(0, 9)\n",
    "        #add random values to a list to be summed for each row\n",
    "        print(value, end= ' ')\n",
    "    print('*')\n",
    "    \n",
    "for j in range(0,23):\n",
    "    print('*', end='')"
   ]
  },
  {
   "cell_type": "code",
   "execution_count": 6,
   "metadata": {},
   "outputs": [
    {
     "name": "stdout",
     "output_type": "stream",
     "text": [
      "3  0  7  9  9  7  5  5  8  2  * 55\n",
      "6  3  8  9  2  3  3  7  9  9  * 59\n",
      "0  2  0  9  4  9  9  3  3  3  * 42\n",
      "6  7  1  6  2  5  7  9  4  5  * 52\n",
      "0  3  0  5  6  8  0  3  4  5  * 34\n",
      "9  8  5  4  6  4  9  9  9  8  * 71\n",
      "9  2  1  2  5  9  5  5  1  5  * 44\n",
      "8  7  7  0  4  8  4  8  7  4  * 57\n",
      "9  8  9  0  4  6  7  6  5  1  * 55\n",
      "1  2  4  7  2  0  2  7  5  8  * 38\n",
      "*  *  *  *  *  *  *  *  *  *  \n",
      "51 42 42 51 44 59 51 62 55 50 "
     ]
    }
   ],
   "source": [
    "allNums = []\n",
    "\n",
    "for i in range(0, 10):\n",
    "    #Re-initializes empty list for each iteration\n",
    "    nums = []\n",
    "    # generate some integers\n",
    "    for _ in range(10):\n",
    "        value = randint(0, 9)\n",
    "        #add random values to a list to be summed for each row\n",
    "        nums.append(value)\n",
    "        print(value, end= '  ')\n",
    "    #Creates a list of all the rows\n",
    "    allNums.append(nums)\n",
    "    sumNum = sum(nums)\n",
    "    print('*', sumNum)\n",
    "\n",
    "for h in range(0,10):\n",
    "    print('*', end='  ')\n",
    "print()\n",
    "\n",
    "columns = []\n",
    "\n",
    "#Creates a list for each column\n",
    "for j in range (0, len(allNums)):\n",
    "    column = []\n",
    "    for numList in allNums:\n",
    "        #Each column is made up of all numbers at the j index for each row\n",
    "        column.append(numList[j]) \n",
    "    columns.append(column)\n",
    "\n",
    "for col in columns:\n",
    "    print(sum(col), end=' ')\n",
    "    "
   ]
  }
 ],
 "metadata": {
  "kernelspec": {
   "display_name": "Python 3",
   "language": "python",
   "name": "python3"
  },
  "language_info": {
   "codemirror_mode": {
    "name": "ipython",
    "version": 3
   },
   "file_extension": ".py",
   "mimetype": "text/x-python",
   "name": "python",
   "nbconvert_exporter": "python",
   "pygments_lexer": "ipython3",
   "version": "3.8.3"
  }
 },
 "nbformat": 4,
 "nbformat_minor": 4
}
