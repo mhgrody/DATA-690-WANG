{
 "cells": [
  {
   "cell_type": "markdown",
   "metadata": {},
   "source": [
    "# 690 Assignment 3"
   ]
  },
  {
   "cell_type": "markdown",
   "metadata": {},
   "source": [
    "## Normal Matrix"
   ]
  },
  {
   "cell_type": "code",
   "execution_count": 1,
   "metadata": {},
   "outputs": [],
   "source": [
    "from random import randint\n",
    "\n",
    "for i in range(10):\n",
    "# generate some integers\n",
    "    for _ in range(10):\n",
    "        value = randint(0, 9)\n",
    "        print(value, end= ' ')\n",
    "    print()"
   ]
  },
  {
   "cell_type": "markdown",
   "metadata": {},
   "source": [
    "## Odd = @ Matrix"
   ]
  },
  {
   "cell_type": "code",
   "execution_count": 2,
   "metadata": {},
   "outputs": [],
   "source": [
    "for i in range(10):\n",
    "# generate some integers\n",
    "    for _ in range(10):\n",
    "        value = randint(0, 9)\n",
    "        if value%2 != 0:\n",
    "            value = '@'\n",
    "        print(value, end= ' ')\n",
    "    print()"
   ]
  },
  {
   "cell_type": "markdown",
   "metadata": {},
   "source": [
    "## Matrix with Row Totals"
   ]
  },
  {
   "cell_type": "code",
   "execution_count": 3,
   "metadata": {},
   "outputs": [
    {
     "name": "stdout",
     "output_type": "stream",
     "text": [
      "8 1 3 1 9 4 6 6 1 1 * 40\n",
      "0 2 6 1 3 4 3 0 9 6 * 34\n",
      "7 9 8 1 1 2 0 0 9 3 * 40\n",
      "7 2 1 7 9 2 8 0 3 0 * 39\n",
      "8 5 1 8 8 5 4 7 7 6 * 59\n",
      "8 1 9 8 9 6 1 2 8 7 * 59\n",
      "7 8 7 8 5 3 9 0 9 4 * 60\n",
      "6 5 7 0 2 6 1 8 4 6 * 45\n",
      "2 2 8 5 7 1 2 5 1 4 * 37\n",
      "6 2 3 5 8 0 5 6 7 3 * 45\n"
     ]
    }
   ],
   "source": [
    "for i in range(10):\n",
    "    #Re-initializes empty list for each iteration\n",
    "    nums = []\n",
    "# generate some integers\n",
    "    for _ in range(10):\n",
    "        value = randint(0, 9)\n",
    "        #add random values to a list to be summed for each row\n",
    "        nums.append(value)\n",
    "        print(value, end= ' ')\n",
    "    print('*', sum(nums))"
   ]
  },
  {
   "cell_type": "markdown",
   "metadata": {},
   "source": [
    "## Optional Challenges"
   ]
  },
  {
   "cell_type": "code",
   "execution_count": 4,
   "metadata": {},
   "outputs": [
    {
     "data": {
      "text/plain": [
       "23"
      ]
     },
     "execution_count": 4,
     "metadata": {},
     "output_type": "execute_result"
    }
   ],
   "source": [
    "string = '***********************'\n",
    "len(string)"
   ]
  },
  {
   "cell_type": "code",
   "execution_count": 5,
   "metadata": {},
   "outputs": [
    {
     "name": "stdout",
     "output_type": "stream",
     "text": [
      "***********************\n",
      "* 3 2 5 7 9 7 5 9 6 1 *\n",
      "* 1 6 1 4 9 1 1 0 1 1 *\n",
      "* 5 8 5 6 3 3 3 3 2 0 *\n",
      "* 5 5 7 5 3 7 6 5 9 5 *\n",
      "* 0 4 6 6 2 3 0 5 0 8 *\n",
      "* 2 2 2 2 6 8 6 9 3 4 *\n",
      "* 7 7 5 9 3 6 8 6 5 5 *\n",
      "* 8 6 0 4 3 9 9 5 6 3 *\n",
      "* 8 2 7 4 1 5 8 2 8 6 *\n",
      "* 5 8 2 2 7 9 6 6 4 7 *\n",
      "***********************"
     ]
    }
   ],
   "source": [
    "for j in range(0,23):\n",
    "    print('*', end='')\n",
    "print()\n",
    "\n",
    "for i in range(0, 10):\n",
    "    # generate some integers\n",
    "    print('*', end=' ')\n",
    "    for _ in range(0, 10):\n",
    "        value = randint(0, 9)\n",
    "        #add random values to a list to be summed for each row\n",
    "        print(value, end= ' ')\n",
    "    print('*')\n",
    "    \n",
    "for j in range(0,23):\n",
    "    print('*', end='')"
   ]
  },
  {
   "cell_type": "code",
   "execution_count": 6,
   "metadata": {},
   "outputs": [
    {
     "name": "stdout",
     "output_type": "stream",
     "text": [
      "9  0  9  0  1  6  9  2  1  8  * 45\n",
      "7  4  0  8  7  8  0  9  4  3  * 50\n",
      "3  2  3  3  9  3  0  8  7  7  * 45\n",
      "0  9  4  6  2  9  6  9  2  0  * 47\n",
      "7  4  7  0  0  4  2  7  5  7  * 43\n",
      "0  2  1  9  6  7  8  1  3  5  * 42\n",
      "3  8  5  5  7  6  8  6  2  8  * 58\n",
      "3  5  8  3  2  0  6  5  7  5  * 44\n",
      "9  5  5  5  3  3  4  2  2  3  * 41\n",
      "0  5  0  9  3  3  4  6  8  5  * 43\n",
      "*  *  *  *  *  *  *  *  *  *  \n",
      "41 44 42 48 40 49 47 55 41 51 "
     ]
    }
   ],
   "source": [
    "allNums = []\n",
    "\n",
    "for i in range(0, 10):\n",
    "    #Re-initializes empty list for each iteration\n",
    "    nums = []\n",
    "    # generate some integers\n",
    "    for _ in range(10):\n",
    "        value = randint(0, 9)\n",
    "        #add random values to a list to be summed for each row\n",
    "        nums.append(value)\n",
    "        print(value, end= '  ')\n",
    "    #Creates a list of all the rows\n",
    "    allNums.append(nums)\n",
    "    sumNum = sum(nums)\n",
    "    print('*', sumNum)\n",
    "\n",
    "for h in range(0,10):\n",
    "    print('*', end='  ')\n",
    "print()\n",
    "\n",
    "columns = []\n",
    "\n",
    "#Creates a list for each column\n",
    "for j in range (0, len(allNums)):\n",
    "    column = []\n",
    "    for numList in allNums:\n",
    "        #Each column is made up of all numbers at the j index for each row\n",
    "        column.append(numList[j]) \n",
    "    columns.append(column)\n",
    "\n",
    "for col in columns:\n",
    "    print(sum(col), end=' ')\n",
    "    "
   ]
  }
 ],
 "metadata": {
  "kernelspec": {
   "display_name": "Python 3",
   "language": "python",
   "name": "python3"
  },
  "language_info": {
   "codemirror_mode": {
    "name": "ipython",
    "version": 3
   },
   "file_extension": ".py",
   "mimetype": "text/x-python",
   "name": "python",
   "nbconvert_exporter": "python",
   "pygments_lexer": "ipython3",
   "version": "3.8.3"
  }
 },
 "nbformat": 4,
 "nbformat_minor": 4
}
