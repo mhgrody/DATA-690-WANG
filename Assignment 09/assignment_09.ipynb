{
  "nbformat": 4,
  "nbformat_minor": 0,
  "metadata": {
    "kernelspec": {
      "display_name": "Python 3",
      "language": "python",
      "name": "python3"
    },
    "language_info": {
      "codemirror_mode": {
        "name": "ipython",
        "version": 3
      },
      "file_extension": ".py",
      "mimetype": "text/x-python",
      "name": "python",
      "nbconvert_exporter": "python",
      "pygments_lexer": "ipython3",
      "version": "3.7.1"
    },
    "colab": {
      "name": "assignment_09.ipynb",
      "provenance": []
    }
  },
  "cells": [
    {
      "cell_type": "markdown",
      "metadata": {
        "id": "QO-ZnKTTvwjM"
      },
      "source": [
        "### Assignment # 09 - Point Estimate and Interval Estimate (Confidence Interval)\n",
        "\n",
        "A random survey of enrollment at **35** community colleges across the United States yielded the following figures: \n",
        "\n",
        "6,414; 1,550; 2,109; 9,350; 21,828; 4,300; 5,944; 5,722; 2,825; 2,044;\n",
        "\n",
        "5,481; 5,200; 5,853; 2,750; 10,012; 6,357; 27,000; 9,414; 7,681; 3,200; \n",
        "\n",
        "17,500; 9,200; 7,380; 18,314; 6,557; 13,713; 17,768; 7,493; 2,771; 2,861; \n",
        "\n",
        "1,263; 7,285; 28,165; 5,080; 11,622\n",
        "\n",
        "Perform point estimate and interval estimate with **95% confidence level** using **t-distribution**.\n",
        "\n",
        "Since we don't know the population variance, we use t-distribiution instead of normal distribution."
      ]
    },
    {
      "cell_type": "code",
      "metadata": {
        "id": "RQBJ3BvgvwjO"
      },
      "source": [
        "# Import Python packages\n",
        "\n",
        "import pandas as pd\n",
        "import numpy as np\n",
        "import scipy.stats as st\n",
        "from scipy.stats import t\n",
        "import math"
      ],
      "execution_count": 1,
      "outputs": []
    },
    {
      "cell_type": "markdown",
      "metadata": {
        "id": "yGj7WnubvwjP"
      },
      "source": [
        "### Step 0 - Data Preprocessing \n",
        "\n",
        "Process the raw data to make a list of integers. In order to calculate descriptive statistic, Python needs to work with a list of numbers.\n",
        "### note:\n",
        "Don't manually make the list by hand-typing the numbers. Write code to automate the data preparation."
      ]
    },
    {
      "cell_type": "code",
      "metadata": {
        "id": "FKeAFctVvwjP",
        "outputId": "0388b423-2070-4eb8-8868-5e03916c6406",
        "colab": {
          "base_uri": "https://localhost:8080/",
          "height": 52
        }
      },
      "source": [
        "# make each line of numbers a string object and then concatenate them together \n",
        "# The end result is one single string containing 35 numbers separated by \";\"\n",
        "\n",
        "data_1 = \"6,414; 1,550; 2,109; 9,350; 21,828; 4,300; 5,944; 5,722; 2,825; 2,044; \" \n",
        "data_2 = \"5,481; 5,200; 5,853; 2,750; 10,012; 6,357; 27,000; 9,414; 7,681; 3,200; \"\n",
        "data_3 = \"17,500; 9,200; 7,380; 18,314; 6,557; 13,713; 17,768; 7,493; 2,771; 2,861; \"\n",
        "data_4 = \"1,263; 7,285; 28,165; 5,080; 11,622\"\n",
        "data = data_1 + data_2 + data_3 + data_4\n",
        "data"
      ],
      "execution_count": 2,
      "outputs": [
        {
          "output_type": "execute_result",
          "data": {
            "application/vnd.google.colaboratory.intrinsic+json": {
              "type": "string"
            },
            "text/plain": [
              "'6,414; 1,550; 2,109; 9,350; 21,828; 4,300; 5,944; 5,722; 2,825; 2,044; 5,481; 5,200; 5,853; 2,750; 10,012; 6,357; 27,000; 9,414; 7,681; 3,200; 17,500; 9,200; 7,380; 18,314; 6,557; 13,713; 17,768; 7,493; 2,771; 2,861; 1,263; 7,285; 28,165; 5,080; 11,622'"
            ]
          },
          "metadata": {
            "tags": []
          },
          "execution_count": 2
        }
      ]
    },
    {
      "cell_type": "code",
      "metadata": {
        "id": "jY622A35vwjU",
        "outputId": "de1f6d54-6e34-4f5a-ac06-7d96f75651b4",
        "colab": {
          "base_uri": "https://localhost:8080/"
        }
      },
      "source": [
        "# Convert the single string to a list of strings using split() function\n",
        "# Make sure to specify a delimter or separator\n",
        "\n",
        "stringList = data.split('; ')\n",
        "print(stringList)"
      ],
      "execution_count": 3,
      "outputs": [
        {
          "output_type": "stream",
          "text": [
            "['6,414', '1,550', '2,109', '9,350', '21,828', '4,300', '5,944', '5,722', '2,825', '2,044', '5,481', '5,200', '5,853', '2,750', '10,012', '6,357', '27,000', '9,414', '7,681', '3,200', '17,500', '9,200', '7,380', '18,314', '6,557', '13,713', '17,768', '7,493', '2,771', '2,861', '1,263', '7,285', '28,165', '5,080', '11,622']\n"
          ],
          "name": "stdout"
        }
      ]
    },
    {
      "cell_type": "markdown",
      "metadata": {
        "id": "S3loEFuJ3fdT"
      },
      "source": [
        "Create a list of integers from the list of strings using List Comprehension or for loop. Make sure to remove the \",\" first and then convert the strings to integers."
      ]
    },
    {
      "cell_type": "code",
      "metadata": {
        "id": "_b8yjF0hvwjV",
        "outputId": "2be2cb4b-6d3a-4245-b842-d7c6609d8403",
        "colab": {
          "base_uri": "https://localhost:8080/"
        }
      },
      "source": [
        "# Using List Comprehension\n",
        "cleanList = [int(x.replace(',','')) for x in stringList]\n",
        "print(cleanList)"
      ],
      "execution_count": 4,
      "outputs": [
        {
          "output_type": "stream",
          "text": [
            "[6414, 1550, 2109, 9350, 21828, 4300, 5944, 5722, 2825, 2044, 5481, 5200, 5853, 2750, 10012, 6357, 27000, 9414, 7681, 3200, 17500, 9200, 7380, 18314, 6557, 13713, 17768, 7493, 2771, 2861, 1263, 7285, 28165, 5080, 11622]\n"
          ],
          "name": "stdout"
        }
      ]
    },
    {
      "cell_type": "markdown",
      "metadata": {
        "id": "rztZ5pJtvwjX"
      },
      "source": [
        "### Step 1 - Calculate and Display the Sample Size and Sample Mean"
      ]
    },
    {
      "cell_type": "code",
      "metadata": {
        "id": "MRjPNo1kvwjX",
        "outputId": "0907a595-3b3f-4398-ce3e-39b0e9abad6b",
        "colab": {
          "base_uri": "https://localhost:8080/"
        }
      },
      "source": [
        "# Calculate and display the sample size\n",
        "\n",
        "sampleSize = len(cleanList)\n",
        "print(\"Sample size: \", sampleSize)\n"
      ],
      "execution_count": 5,
      "outputs": [
        {
          "output_type": "stream",
          "text": [
            "Sample size:  35\n"
          ],
          "name": "stdout"
        }
      ]
    },
    {
      "cell_type": "code",
      "metadata": {
        "id": "Sfe6XfmWvwjY",
        "outputId": "6d176496-8b0d-4ee6-9521-50cfd40b4962",
        "colab": {
          "base_uri": "https://localhost:8080/"
        }
      },
      "source": [
        "# Calculate and display the sample mean\n",
        "\n",
        "sampleMean = sum(cleanList) / sampleSize\n",
        "print(\"Sample Mean: \", sampleMean)"
      ],
      "execution_count": 6,
      "outputs": [
        {
          "output_type": "stream",
          "text": [
            "Sample Mean:  8628.742857142857\n"
          ],
          "name": "stdout"
        }
      ]
    },
    {
      "cell_type": "markdown",
      "metadata": {
        "id": "uJl_KNgVvwjZ"
      },
      "source": [
        "The point estimate of the mean enrollment of US community colleges is **8629**."
      ]
    },
    {
      "cell_type": "markdown",
      "metadata": {
        "id": "FE43zdBnvwja"
      },
      "source": [
        "### Step 2 - Calculate and Display the Sample Standard Deviation & Sample Standard Error\n",
        "\n",
        "Sample Standard Deviation $S=\\sqrt{\\dfrac{1}{n-1}\\sum\\limits_{i=1}^n (X_i-\\bar{X})^2}$\n",
        "\n",
        "Sample Standard Error = $\\dfrac{S}{\\sqrt{n}}$\n",
        "\n",
        "Note: The default **Delta Degree of Freedom (DDOF)** for Numpy's std function is 0 which is applicable to populate data. For sample data, we need to specify **ddof=1**. \n",
        "\n",
        "For the enrollment data, we round up the statistics to be the full integers (no decimal points).\n"
      ]
    },
    {
      "cell_type": "code",
      "metadata": {
        "id": "Yy2-ewJSvwja",
        "outputId": "a65e8149-7d2f-4f31-820f-23ac23a92049",
        "colab": {
          "base_uri": "https://localhost:8080/"
        }
      },
      "source": [
        "# Calculate and display the sample standard deviation using Numpy's std function.\n",
        "\n",
        "std = round(np.std(cleanList, ddof=1))\n",
        "print(\"Sample Standard Deviation: \", std)"
      ],
      "execution_count": 7,
      "outputs": [
        {
          "output_type": "stream",
          "text": [
            "Sample Standard Deviation:  6944\n"
          ],
          "name": "stdout"
        }
      ]
    },
    {
      "cell_type": "code",
      "metadata": {
        "id": "l_VyIgHTvwjc",
        "outputId": "e02594e8-20e7-42fc-e720-9e4f19c8598f",
        "colab": {
          "base_uri": "https://localhost:8080/"
        }
      },
      "source": [
        "# Calculate and display the sample standard error\n",
        "\n",
        "ste = round(std / np.sqrt(sampleSize))\n",
        "print(\"Sample Standard Error: \", ste)"
      ],
      "execution_count": 8,
      "outputs": [
        {
          "output_type": "stream",
          "text": [
            "Sample Standard Error:  1174\n"
          ],
          "name": "stdout"
        }
      ]
    },
    {
      "cell_type": "markdown",
      "metadata": {
        "id": "IynJoUaJvwjc"
      },
      "source": [
        "### Step 3 - Calculate t Critical Value using t-Distribution \n",
        "\n",
        "$\\alpha$ = 1 - Confidence Level = 1 - 95% = 0.05\n",
        "\n",
        "$\\dfrac{\\alpha}{2}$ = 0.025\n",
        "\n",
        "n (sample size) = 35\n",
        "\n",
        "df (degree of freedom) = n - 1 = 35 - 1 = 34\n",
        "\n",
        "We will use Python scipy.stats t-distribution's PPF (Percentage Point Function) to calculate t critical value $t_{0.025,34}$."
      ]
    },
    {
      "cell_type": "code",
      "metadata": {
        "id": "24_EeyVwvwjd",
        "outputId": "2f84e679-00e5-4de1-f725-594f8da68d2b",
        "colab": {
          "base_uri": "https://localhost:8080/"
        }
      },
      "source": [
        "# Calculate and display the t critical value using scipy.stats.t package ppf function\n",
        "\n",
        "critT = round(t.ppf(q=1-.025,df=34),2)\n",
        "print(\"t Critical Value: \", critT)"
      ],
      "execution_count": 9,
      "outputs": [
        {
          "output_type": "stream",
          "text": [
            "t Critical Value:  2.03\n"
          ],
          "name": "stdout"
        }
      ]
    },
    {
      "cell_type": "markdown",
      "metadata": {
        "id": "qyyUKSjhvwje"
      },
      "source": [
        "### Step 4 - Calculate the Margin of Error\n",
        "\n",
        "Margin of Error = t-Statistics * Sample Standard Error = $t_{\\alpha/2,n-1}\\left(\\dfrac{s}{\\sqrt{n}}\\right)$"
      ]
    },
    {
      "cell_type": "code",
      "metadata": {
        "id": "13aQGtICvwje",
        "outputId": "0a5822ee-0006-41e6-9c92-e5d650354634",
        "colab": {
          "base_uri": "https://localhost:8080/"
        }
      },
      "source": [
        "# Calculate and display the margin of error\n",
        "\n",
        "errorMargin = round(ste * critT)\n",
        "print(\"Margin of Error: \", errorMargin)"
      ],
      "execution_count": 10,
      "outputs": [
        {
          "output_type": "stream",
          "text": [
            "Margin of Error:  2383\n"
          ],
          "name": "stdout"
        }
      ]
    },
    {
      "cell_type": "markdown",
      "metadata": {
        "id": "W5C_lR0lvwje"
      },
      "source": [
        "### Step 5 - Calculate Lower and Upper Limit of the Confidence Interval\n",
        "\n",
        "Lower Limit = Sample Mean - Margin of Error\n",
        "\n",
        "Upper Limit = Sample Mean + Margin of Error"
      ]
    },
    {
      "cell_type": "code",
      "metadata": {
        "id": "-n9Vs8Kfvwje",
        "outputId": "4db2de08-025e-4b73-932e-cca97ca4b383",
        "colab": {
          "base_uri": "https://localhost:8080/"
        }
      },
      "source": [
        "# Calculate and display the lower limit\n",
        "\n",
        "lowerLim = round(sampleMean - errorMargin)\n",
        "print(\"Lower Limit: \", lowerLim)"
      ],
      "execution_count": 11,
      "outputs": [
        {
          "output_type": "stream",
          "text": [
            "Lower Limit:  6246\n"
          ],
          "name": "stdout"
        }
      ]
    },
    {
      "cell_type": "code",
      "metadata": {
        "id": "gyH6Ii_3vwje",
        "outputId": "c0e99edb-e55a-4c3b-b722-80dba268f6e9",
        "colab": {
          "base_uri": "https://localhost:8080/"
        }
      },
      "source": [
        "# Calculate and display the upper limit\n",
        "\n",
        "upperLim = round(sampleMean + errorMargin)\n",
        "print(\"Upper Limit: \", upperLim)"
      ],
      "execution_count": 12,
      "outputs": [
        {
          "output_type": "stream",
          "text": [
            "Upper Limit:  11012\n"
          ],
          "name": "stdout"
        }
      ]
    },
    {
      "cell_type": "markdown",
      "metadata": {
        "id": "ZGeD7v16vwje"
      },
      "source": [
        "### Step 6 - Now We have the 95% Confidence Interval\n",
        "Confidence Interval ($\\sigma$ unknown) = $\\bar{x}\\space\\pm\\space t_{\\alpha/2}\\left(\\dfrac{S}{\\sqrt{n}}\\right)$ = Sample_Mean $\\pm$ Margin of Error"
      ]
    },
    {
      "cell_type": "code",
      "metadata": {
        "id": "lGOOdnOmvwje",
        "outputId": "859cbaa4-56dc-4742-8963-818e9e275d7c",
        "colab": {
          "base_uri": "https://localhost:8080/"
        }
      },
      "source": [
        "# Print the 95% confidence interveral in the form (lower limit, upper limit)\n",
        "\n",
        "conf95 = (lowerLim, upperLim)\n",
        "print('The 95% Confidence Interval: ', conf95)"
      ],
      "execution_count": 13,
      "outputs": [
        {
          "output_type": "stream",
          "text": [
            "The 95% Confidence Interval:  (6246, 11012)\n"
          ],
          "name": "stdout"
        }
      ]
    },
    {
      "cell_type": "markdown",
      "metadata": {
        "id": "ntrz7Ouevwjf"
      },
      "source": [
        "### The End"
      ]
    }
  ]
}