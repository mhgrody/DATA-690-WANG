{
 "cells": [
  {
   "cell_type": "markdown",
   "metadata": {},
   "source": [
    "# Stats on 10 Integers"
   ]
  },
  {
   "cell_type": "markdown",
   "metadata": {},
   "source": [
    "## Step 1\n",
    "##### -Create a list of 10 user generated integers"
   ]
  },
  {
   "cell_type": "code",
   "execution_count": 1,
   "metadata": {},
   "outputs": [
    {
     "name": "stdout",
     "output_type": "stream",
     "text": [
      "\n",
      "Enter an integer: 1\n",
      "\n",
      "Enter an integer: 2\n",
      "\n",
      "Enter an integer: 3\n",
      "\n",
      "Enter an integer: 4\n",
      "\n",
      "Enter an integer: 5\n",
      "\n",
      "Enter an integer: 6\n",
      "\n",
      "Enter an integer: 7\n",
      "\n",
      "Enter an integer: 8\n",
      "\n",
      "Enter an integer: 9\n",
      "\n",
      "Enter an integer: 10\n"
     ]
    }
   ],
   "source": [
    "#create an empty list to put the numbers in\n",
    "inputNums = []\n",
    "\n",
    "#for loop to run 10 times since we only want 10 numbers\n",
    "for i in range(0,10):\n",
    "    #Tests whether an input is an integer, if not, it will keep asking to input an integer\n",
    "    #The for loop will continue to run 10 times even if a non-integer is entered\n",
    "    try:\n",
    "        userInput = int(input('\\n' + 'Enter an integer: '))\n",
    "    except:\n",
    "        while True:\n",
    "            try: \n",
    "                userInput = int(input('\\n' + 'Please only input an integer:'))\n",
    "                break\n",
    "            except:\n",
    "                continue\n",
    "    \n",
    "    inputNums.append(userInput)"
   ]
  },
  {
   "cell_type": "markdown",
   "metadata": {},
   "source": [
    "## Step 2\n",
    "##### Create and print the neccesary statistics "
   ]
  },
  {
   "cell_type": "code",
   "execution_count": 2,
   "metadata": {},
   "outputs": [
    {
     "name": "stdout",
     "output_type": "stream",
     "text": [
      "Your numbers are: [1, 2, 3, 4, 5, 6, 7, 8, 9, 10]\n",
      "Max: 10\n",
      "Min: 1\n",
      "Range: 9\n",
      "Mean: 5.5\n",
      "Variance: 8.25\n",
      "Standard Deviation 2.8722813232690143\n"
     ]
    }
   ],
   "source": [
    "#Function for finding the max\n",
    "def maximum(list):\n",
    "    maxNum = list[0]\n",
    "    for num in list:\n",
    "         if num > maxNum:\n",
    "            maxNum = num\n",
    "    return maxNum\n",
    "\n",
    "#Function for finding the min\n",
    "def minimum(list):\n",
    "    minNum = list[0]\n",
    "    for num in list:\n",
    "         if num < minNum:\n",
    "            minNum = num\n",
    "    return minNum\n",
    "\n",
    "#Make variables for each statistic \n",
    "mean = sum(inputNums)/len(inputNums)\n",
    "variance = sum([((x - mean) ** 2) for x in inputNums]) / len(inputNums) \n",
    "sd = variance ** 0.5\n",
    "maxNum = maximum(inputNums)\n",
    "minNum = minimum(inputNums)\n",
    "numRange = maxNum - minNum\n",
    "\n",
    "#Print the users numbers and the above variables\n",
    "print('Your numbers are:', inputNums)\n",
    "print('Max:', maxNum)\n",
    "print('Min:', minNum)\n",
    "print('Range:', numRange)\n",
    "print('Mean:', mean)\n",
    "print('Variance:', variance)\n",
    "print('Standard Deviation', sd)"
   ]
  }
 ],
 "metadata": {
  "kernelspec": {
   "display_name": "Python 3",
   "language": "python",
   "name": "python3"
  },
  "language_info": {
   "codemirror_mode": {
    "name": "ipython",
    "version": 3
   },
   "file_extension": ".py",
   "mimetype": "text/x-python",
   "name": "python",
   "nbconvert_exporter": "python",
   "pygments_lexer": "ipython3",
   "version": "3.8.3"
  }
 },
 "nbformat": 4,
 "nbformat_minor": 4
}
